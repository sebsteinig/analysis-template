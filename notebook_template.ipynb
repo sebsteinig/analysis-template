{
 "cells": [
  {
   "cell_type": "markdown",
   "id": "f3f7adc5",
   "metadata": {
    "colab_type": "text",
    "id": "view-in-github",
    "tags": []
   },
   "source": [
    "<a href=\"https://colab.research.google.com/github/sebsteinig/analysis_template/blob/main/notebook_template.ipynb\" target=\"_parent\"><img src=\"https://colab.research.google.com/assets/colab-badge.svg\" alt=\"Open In Colab\"/></a>"
   ]
  },
  {
   "cell_type": "markdown",
   "id": "e3e04fe8-9fb9-4e10-8c80-1143682b3ffc",
   "metadata": {},
   "source": [
    "# Title\n",
    "short description of what the notebook does"
   ]
  },
  {
   "cell_type": "markdown",
   "id": "b4c77a9b-587f-454c-a90a-024912aa4060",
   "metadata": {},
   "source": [
    "## Prelude (only necesseary when running on Google Colab)\n",
    "If running on Google Colab, execute the following two cells seperately to download the files and install the necessary conda environment on the virtual machine. This will take several minutes and involves restarting the kernel.\n",
    "\n",
    "If running somewhere else, you can execute the whole notebooks and this part will be skipped automatically."
   ]
  },
  {
   "cell_type": "code",
   "execution_count": 9,
   "id": "da9750a6-abd1-47fd-a1a4-875982a67d90",
   "metadata": {},
   "outputs": [
    {
     "name": "stdout",
     "output_type": "stream",
     "text": [
      "not running on Google Colab\n"
     ]
    }
   ],
   "source": [
    "# configure environment on Colab\n",
    "try:\n",
    "    import google.colab\n",
    "\n",
    "    # if on Colab, clone the repository to access the data locally\n",
    "    import os\n",
    "    repo = \"analysis_template\"\n",
    "\n",
    "    # clone repo if it does not already exist\n",
    "    if not os.path.exists(repo):\n",
    "        print('cloning GitHub repository '+repo)\n",
    "        !git clone https://github.com/sebsteinig/{repo}.git\n",
    "        \n",
    "    %cd /content/{repo}\n",
    "\n",
    "    # install condacolab to easily handle conda environments on Colab\n",
    "    !pip install -q condacolab\n",
    "    import condacolab\n",
    "    condacolab.install()\n",
    "    \n",
    "except:\n",
    "    print('not running on Google Colab')"
   ]
  },
  {
   "cell_type": "code",
   "execution_count": 2,
   "id": "DmiZzoIu_5lO",
   "metadata": {
    "colab": {
     "base_uri": "https://localhost:8080/"
    },
    "id": "DmiZzoIu_5lO",
    "outputId": "46885ef8-d49b-49ad-a1d7-844393356d5b"
   },
   "outputs": [
    {
     "name": "stdout",
     "output_type": "stream",
     "text": [
      "not running on Google Colab\n"
     ]
    }
   ],
   "source": [
    "try:\n",
    "    import google.colab\n",
    "    \n",
    "    # install packages from environment.yml file\n",
    "    !conda env update -n base -f environment.yml\n",
    "    \n",
    "except:\n",
    "    print('not running on Google Colab')"
   ]
  },
  {
   "cell_type": "markdown",
   "id": "6e991c20-c7f3-4233-b143-44411c613f9d",
   "metadata": {},
   "source": [
    "## User input\n",
    "define variables/lists to quickly change inputs to the notebook"
   ]
  },
  {
   "cell_type": "code",
   "execution_count": 3,
   "id": "44853eaf-bc9c-4f72-8328-a83d9653ffc2",
   "metadata": {},
   "outputs": [],
   "source": [
    "work_dir       = '.' # location of cloned repository\n",
    "exp_list       = ['exp1', 'exp2'] # list of data sets to loop over\n",
    "\n",
    "save_figures   = True # flag whether to save figures to disk or not"
   ]
  },
  {
   "cell_type": "markdown",
   "id": "f8f03dcd-f01a-47e6-bcf5-3b6684cf28fa",
   "metadata": {},
   "source": [
    "## Load packages"
   ]
  },
  {
   "cell_type": "code",
   "execution_count": 4,
   "id": "WcMt0hmK_38Q",
   "metadata": {
    "colab": {
     "base_uri": "https://localhost:8080/"
    },
    "id": "WcMt0hmK_38Q",
    "outputId": "1ca62e3a-a818-48f8-aea4-d2827f558cdb"
   },
   "outputs": [],
   "source": [
    "### some standard packages\n",
    "import matplotlib.pyplot as plt\n",
    "import numpy as np\n",
    "import xarray as xr\n",
    "\n",
    "### some optional packages that I always have to google ...\n",
    "\n",
    "#### cartopy maps\n",
    "#from cartopy import config\n",
    "#import cartopy.crs as ccrs\n",
    "#from cartopy.util import add_cyclic_point\n",
    "\n",
    "#### colormaps\n",
    "#import cmocean\n",
    "\n",
    "#### csv parser\n",
    "#import csv\n",
    "\n",
    "#### suppress warnings\n",
    "#import warnings\n",
    "#warnings.filterwarnings('ignore')\n"
   ]
  },
  {
   "cell_type": "markdown",
   "id": "9cea8cfa-504b-4fd2-a6fb-fbe02829d363",
   "metadata": {},
   "source": [
    "## Main code"
   ]
  },
  {
   "cell_type": "code",
   "execution_count": null,
   "id": "bd729772-cf62-44b4-9803-aa4646174491",
   "metadata": {},
   "outputs": [],
   "source": []
  },
  {
   "cell_type": "code",
   "execution_count": null,
   "id": "5358137f-a6fb-4829-aca0-1ea21686d6ef",
   "metadata": {},
   "outputs": [],
   "source": []
  },
  {
   "cell_type": "code",
   "execution_count": null,
   "id": "06f6e566-f649-42c2-b027-5101f43c28fb",
   "metadata": {},
   "outputs": [],
   "source": []
  },
  {
   "cell_type": "markdown",
   "id": "4d09fba0-64b0-40a9-86ac-1ee3be383307",
   "metadata": {},
   "source": [
    "#### appendix: some code snippets I regularly use"
   ]
  },
  {
   "cell_type": "code",
   "execution_count": 8,
   "id": "055047f3",
   "metadata": {
    "colab": {
     "base_uri": "https://localhost:8080/",
     "height": 713
    },
    "id": "055047f3",
    "outputId": "8b79a52d-0d53-4631-91b9-e4fb17cfc984",
    "tags": []
   },
   "outputs": [],
   "source": [
    "#### loop analysis over data sets   \n",
    "# for expCount, exp in enumerate(exp_list):\n",
    "\n",
    "#### load netcdf data set\n",
    "# ds = xr.open_dataset(work_dir + '/data/file_name.nc')\n",
    "\n",
    "#### new multi-panel figure\n",
    "# fig, axes = plt.subplots(nrows, ncols, constrained_layout=True, figsize=(width, height) ) # figsize in inches\n",
    "\n",
    "#### map plot with cartopy\n",
    "# ax = fig.add_subplot(nrows, ncols, index, projection=ccrs.Robinson()) # or e.g. ccrs.PlateCarree()\n",
    "# ax.set_extent([minlon,maxlon, minlat,maxlat], ccrs.PlateCarree()) # or ax.set_global()\n",
    "# ax.coastlines()\n",
    "# ax.contourf(ds['variable_name'], transform=ccrs.PlateCarree(), levels=21, \n",
    "#             vmin=..., vmax=..., cmap=cmocean.cm.topo, add_colorbar=False)\n",
    "\n",
    "#### add cyclic longitude to field and coordinate (from cartopy.util import add_cyclic_point)\n",
    "# variable_cyclic, longitude_cyclic = add_cyclic_point(variable, coord=longitude)\n",
    "\n",
    "#### save figure\n",
    "# if save_figures:\n",
    "#      plt.savefig(work_dir + '/figures/figure_name.pdf')  \n",
    "#      plt.savefig(work_dir + '/figures/figure_name.png', dpi=200)  \n"
   ]
  }
 ],
 "metadata": {
  "colab": {
   "collapsed_sections": [],
   "include_colab_link": true,
   "provenance": []
  },
  "jupytext": {
   "formats": "ipynb,auto:light"
  },
  "kernelspec": {
   "display_name": "Python 3 (ipykernel)",
   "language": "python",
   "name": "python3"
  },
  "language_info": {
   "codemirror_mode": {
    "name": "ipython",
    "version": 3
   },
   "file_extension": ".py",
   "mimetype": "text/x-python",
   "name": "python",
   "nbconvert_exporter": "python",
   "pygments_lexer": "ipython3",
   "version": "3.7.0"
  }
 },
 "nbformat": 4,
 "nbformat_minor": 5
}
